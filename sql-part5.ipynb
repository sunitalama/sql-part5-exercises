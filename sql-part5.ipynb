{
    "metadata": {
        "kernelspec": {
            "name": "SQL",
            "display_name": "SQL",
            "language": "sql"
        },
        "language_info": {
            "name": "sql",
            "version": ""
        }
    },
    "nbformat_minor": 2,
    "nbformat": 4,
    "cells": [
        {
            "cell_type": "markdown",
            "source": [
                "# Exercises: Creating, Updating, and Destroying Objects\n",
                "\n",
                "For the exercises, you will be working with objects and data you create. Before opening this notebook, make sure that you have set up the new connection to the server and that you have located the database and your schema.\n",
                "\n",
                "## Object Creation\n",
                "\n",
                "Before coding, think of three things you want to make. These could be coding projects, new recipes, or planned projects for a woodworking hobby. Brainstorm the appropriate column names and data types as well.\n",
                "\n",
                "Create a table under your schema called `planned_makes`."
            ],
            "metadata": {
                "azdata_cell_guid": "9d51c166-0c19-4f27-a422-2a6cf596bfb2"
            },
            "attachments": {}
        },
        {
            "cell_type": "code",
            "source": [
                "CREATE TABLE sunital.Bakingclass\r\n",
                "( ID int IDENTITY (1,1) PRIMARY key,\r\n",
                "      First_name VARCHAR(25),\r\n",
                "      Last_name VARCHAR(25),\r\n",
                "      Age int ,\r\n",
                "     Gender VARCHAR(50),\r\n",
                "     Email_address VARCHAR (50)\r\n",
                "   );"
            ],
            "metadata": {
                "azdata_cell_guid": "d9238911-6f81-4f01-980d-b584307effaf",
                "language": "sql",
                "tags": []
            },
            "outputs": [
                {
                    "output_type": "display_data",
                    "data": {
                        "text/html": "Commands completed successfully."
                    },
                    "metadata": {}
                },
                {
                    "output_type": "display_data",
                    "data": {
                        "text/html": "Total execution time: 00:00:00.053"
                    },
                    "metadata": {}
                }
            ],
            "execution_count": 1
        },
        {
            "cell_type": "markdown",
            "source": [
                "Add three rows to your table that are your planned makes."
            ],
            "metadata": {
                "azdata_cell_guid": "83cdf34d-8c4f-4fa1-a14e-77384b19d734"
            }
        },
        {
            "cell_type": "code",
            "source": [
                "\r\n",
                "INSERT INTO sunital.Bakingclass ( First_name, Last_name, Age, Gender, Email_address)\r\n",
                "VALUES ('Lisa','Brown','30','Female','lisab20@hotmail.com'),\r\n",
                "        ('Nita','Rai','39','Female','nitar21@hotmail.com'),\r\n",
                "        ('Ryan','Wheeler','31','Male','ryanw@hotmail.com');\r\n",
                "\r\n",
                "\r\n",
                ""
            ],
            "metadata": {
                "azdata_cell_guid": "2ed03010-7448-45b5-8224-6bd2bdfd5634",
                "language": "sql",
                "tags": []
            },
            "outputs": [
                {
                    "output_type": "display_data",
                    "data": {
                        "text/html": "(3 rows affected)"
                    },
                    "metadata": {}
                },
                {
                    "output_type": "display_data",
                    "data": {
                        "text/html": "Total execution time: 00:00:00.057"
                    },
                    "metadata": {}
                }
            ],
            "execution_count": 2
        },
        {
            "cell_type": "code",
            "source": [
                "SELECT*\r\n",
                "FROM sunital.Bakingclass"
            ],
            "metadata": {
                "language": "sql",
                "azdata_cell_guid": "ed76d2d7-96c5-4920-9e07-b0aff9bbe686"
            },
            "outputs": [
                {
                    "output_type": "display_data",
                    "data": {
                        "text/html": "(3 rows affected)"
                    },
                    "metadata": {}
                },
                {
                    "output_type": "display_data",
                    "data": {
                        "text/html": "Total execution time: 00:00:00.194"
                    },
                    "metadata": {}
                },
                {
                    "output_type": "execute_result",
                    "metadata": {},
                    "execution_count": 3,
                    "data": {
                        "application/vnd.dataresource+json": {
                            "schema": {
                                "fields": [
                                    {
                                        "name": "ID"
                                    },
                                    {
                                        "name": "First_name"
                                    },
                                    {
                                        "name": "Last_name"
                                    },
                                    {
                                        "name": "Age"
                                    },
                                    {
                                        "name": "Gender"
                                    },
                                    {
                                        "name": "Email_address"
                                    }
                                ]
                            },
                            "data": [
                                {
                                    "0": "1",
                                    "1": "Lisa",
                                    "2": "Brown",
                                    "3": "30",
                                    "4": "Female",
                                    "5": "lisab20@hotmail.com"
                                },
                                {
                                    "0": "2",
                                    "1": "Nita",
                                    "2": "Rai",
                                    "3": "39",
                                    "4": "Female",
                                    "5": "nitar21@hotmail.com"
                                },
                                {
                                    "0": "3",
                                    "1": "Ryan",
                                    "2": "Wheeler",
                                    "3": "31",
                                    "4": "Male",
                                    "5": "ryanw@hotmail.com"
                                }
                            ]
                        },
                        "text/html": [
                            "<table>",
                            "<tr><th>ID</th><th>First_name</th><th>Last_name</th><th>Age</th><th>Gender</th><th>Email_address</th></tr>",
                            "<tr><td>1</td><td>Lisa</td><td>Brown</td><td>30</td><td>Female</td><td>lisab20@hotmail.com</td></tr>",
                            "<tr><td>2</td><td>Nita</td><td>Rai</td><td>39</td><td>Female</td><td>nitar21@hotmail.com</td></tr>",
                            "<tr><td>3</td><td>Ryan</td><td>Wheeler</td><td>31</td><td>Male</td><td>ryanw@hotmail.com</td></tr>",
                            "</table>"
                        ]
                    }
                }
            ],
            "execution_count": 3
        },
        {
            "cell_type": "markdown",
            "source": [
                "## Update a Row\n",
                "\n",
                "Change different values in one of your three rows."
            ],
            "metadata": {
                "azdata_cell_guid": "4a39b8d4-ae97-4e09-8336-c5fc6a00d76c"
            },
            "attachments": {}
        },
        {
            "cell_type": "code",
            "source": [
                "UPDATE sunital.Bakingclass\r\n",
                "SET First_name  = 'Nancy' ,\r\n",
                " Age = 25\r\n",
                "WHERE\r\n",
                "\tId=3;"
            ],
            "metadata": {
                "azdata_cell_guid": "7409c695-9581-4ad8-b03a-574d2c4c87cb",
                "language": "sql",
                "tags": []
            },
            "outputs": [
                {
                    "output_type": "display_data",
                    "data": {
                        "text/html": "(1 row affected)"
                    },
                    "metadata": {}
                },
                {
                    "output_type": "display_data",
                    "data": {
                        "text/html": "Total execution time: 00:00:00.071"
                    },
                    "metadata": {}
                }
            ],
            "execution_count": 8
        },
        {
            "cell_type": "code",
            "source": [
                "SELECT *\r\n",
                "FROM sunital.Bakingclass"
            ],
            "metadata": {
                "language": "sql",
                "azdata_cell_guid": "9b189be4-b03d-4b08-a444-7d732d28b086"
            },
            "outputs": [
                {
                    "output_type": "display_data",
                    "data": {
                        "text/html": "(3 rows affected)"
                    },
                    "metadata": {}
                },
                {
                    "output_type": "display_data",
                    "data": {
                        "text/html": "Total execution time: 00:00:00.124"
                    },
                    "metadata": {}
                },
                {
                    "output_type": "execute_result",
                    "metadata": {},
                    "execution_count": 9,
                    "data": {
                        "application/vnd.dataresource+json": {
                            "schema": {
                                "fields": [
                                    {
                                        "name": "ID"
                                    },
                                    {
                                        "name": "First_name"
                                    },
                                    {
                                        "name": "Last_name"
                                    },
                                    {
                                        "name": "Age"
                                    },
                                    {
                                        "name": "Gender"
                                    },
                                    {
                                        "name": "Email_address"
                                    }
                                ]
                            },
                            "data": [
                                {
                                    "0": "1",
                                    "1": "Lisa",
                                    "2": "Brown",
                                    "3": "30",
                                    "4": "Female",
                                    "5": "lisab20@hotmail.com"
                                },
                                {
                                    "0": "2",
                                    "1": "Nita",
                                    "2": "Rai",
                                    "3": "39",
                                    "4": "Female",
                                    "5": "nitar21@hotmail.com"
                                },
                                {
                                    "0": "3",
                                    "1": "Nancy",
                                    "2": "Wheeler",
                                    "3": "25",
                                    "4": "Male",
                                    "5": "ryanw@hotmail.com"
                                }
                            ]
                        },
                        "text/html": [
                            "<table>",
                            "<tr><th>ID</th><th>First_name</th><th>Last_name</th><th>Age</th><th>Gender</th><th>Email_address</th></tr>",
                            "<tr><td>1</td><td>Lisa</td><td>Brown</td><td>30</td><td>Female</td><td>lisab20@hotmail.com</td></tr>",
                            "<tr><td>2</td><td>Nita</td><td>Rai</td><td>39</td><td>Female</td><td>nitar21@hotmail.com</td></tr>",
                            "<tr><td>3</td><td>Nancy</td><td>Wheeler</td><td>25</td><td>Male</td><td>ryanw@hotmail.com</td></tr>",
                            "</table>"
                        ]
                    }
                }
            ],
            "execution_count": 9
        },
        {
            "cell_type": "markdown",
            "source": [
                "## Delete a Row\n",
                "\n",
                "Delete one of the rows from your table."
            ],
            "metadata": {
                "azdata_cell_guid": "95e91a6e-9038-42d9-9401-5738842aba17"
            }
        },
        {
            "cell_type": "code",
            "source": [
                "DELETE From sunital.Bakingclass where First_name ='Nancy'"
            ],
            "metadata": {
                "azdata_cell_guid": "749c748f-19b5-4c69-9004-b6b20216616a",
                "language": "sql"
            },
            "outputs": [
                {
                    "output_type": "display_data",
                    "data": {
                        "text/html": "(1 row affected)"
                    },
                    "metadata": {}
                },
                {
                    "output_type": "display_data",
                    "data": {
                        "text/html": "Total execution time: 00:00:00.125"
                    },
                    "metadata": {}
                }
            ],
            "execution_count": 10
        },
        {
            "cell_type": "code",
            "source": [
                "SELECT *\r\n",
                "from sunital.Bakingclass"
            ],
            "metadata": {
                "language": "sql",
                "azdata_cell_guid": "529327b1-7dfa-4347-ba83-4a7d1ba1a8a8"
            },
            "outputs": [
                {
                    "output_type": "display_data",
                    "data": {
                        "text/html": "(2 rows affected)"
                    },
                    "metadata": {}
                },
                {
                    "output_type": "display_data",
                    "data": {
                        "text/html": "Total execution time: 00:00:00.154"
                    },
                    "metadata": {}
                },
                {
                    "output_type": "execute_result",
                    "metadata": {},
                    "execution_count": 11,
                    "data": {
                        "application/vnd.dataresource+json": {
                            "schema": {
                                "fields": [
                                    {
                                        "name": "ID"
                                    },
                                    {
                                        "name": "First_name"
                                    },
                                    {
                                        "name": "Last_name"
                                    },
                                    {
                                        "name": "Age"
                                    },
                                    {
                                        "name": "Gender"
                                    },
                                    {
                                        "name": "Email_address"
                                    }
                                ]
                            },
                            "data": [
                                {
                                    "0": "1",
                                    "1": "Lisa",
                                    "2": "Brown",
                                    "3": "30",
                                    "4": "Female",
                                    "5": "lisab20@hotmail.com"
                                },
                                {
                                    "0": "2",
                                    "1": "Nita",
                                    "2": "Rai",
                                    "3": "39",
                                    "4": "Female",
                                    "5": "nitar21@hotmail.com"
                                }
                            ]
                        },
                        "text/html": [
                            "<table>",
                            "<tr><th>ID</th><th>First_name</th><th>Last_name</th><th>Age</th><th>Gender</th><th>Email_address</th></tr>",
                            "<tr><td>1</td><td>Lisa</td><td>Brown</td><td>30</td><td>Female</td><td>lisab20@hotmail.com</td></tr>",
                            "<tr><td>2</td><td>Nita</td><td>Rai</td><td>39</td><td>Female</td><td>nitar21@hotmail.com</td></tr>",
                            "</table>"
                        ]
                    }
                }
            ],
            "execution_count": 11
        },
        {
            "cell_type": "markdown",
            "source": [
                "## Drop the Table\n",
                "\n",
                "While this has been fun, it is time to drop the table!"
            ],
            "metadata": {
                "azdata_cell_guid": "2239cb09-137b-4579-905b-1aa020793181"
            },
            "attachments": {}
        },
        {
            "cell_type": "code",
            "source": [
                "DROP TABLE sunital.Bakingclass"
            ],
            "metadata": {
                "azdata_cell_guid": "b3c7f6ea-ee26-46b3-9c2a-2f7a82c39699",
                "language": "sql"
            },
            "outputs": [
                {
                    "output_type": "display_data",
                    "data": {
                        "text/html": "Commands completed successfully."
                    },
                    "metadata": {}
                },
                {
                    "output_type": "display_data",
                    "data": {
                        "text/html": "Total execution time: 00:00:00.116"
                    },
                    "metadata": {}
                }
            ],
            "execution_count": 12
        }
    ]
}